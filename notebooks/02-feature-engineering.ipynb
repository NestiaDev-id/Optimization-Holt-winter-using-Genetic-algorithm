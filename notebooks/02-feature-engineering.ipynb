{
 "cells": [
  {
   "cell_type": "code",
   "execution_count": null,
   "id": "86620065",
   "metadata": {},
   "outputs": [],
   "source": [
    "import sys\n",
    "import os\n",
    "sys.path.append(os.path.abspath('../src'))\n",
    "\n",
    "from data.load_data import load_excel_data\n",
    "from data.clean_data import clean_data\n",
    "\n",
    "# Ubah path ke file kamu\n",
    "file_path = '../data/raw/dataset original.xlsx'\n",
    "\n",
    "# Load data\n",
    "df = load_excel_data(file_path)\n",
    "\n",
    "# Bersihkan data\n",
    "df_cleaned = clean_data(df)\n",
    "\n",
    "# Tampilkan hasil data yang sudah dibersihkan\n",
    "df_cleaned.head()\n"
   ]
  }
 ],
 "metadata": {
  "language_info": {
   "name": "python"
  }
 },
 "nbformat": 4,
 "nbformat_minor": 5
}
