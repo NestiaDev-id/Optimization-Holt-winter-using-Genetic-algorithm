{
 "cells": [
  {
   "cell_type": "code",
   "execution_count": 3,
   "id": "dbb7e8ee",
   "metadata": {},
   "outputs": [
    {
     "name": "stdout",
     "output_type": "stream",
     "text": [
      "(204, 1)\n",
      "(11, 1)\n"
     ]
    }
   ],
   "source": [
    "import sys\n",
    "import os\n",
    "sys.path.append(os.path.abspath('../src'))\n",
    "\n",
    "# 1. Import libraries\n",
    "import pandas as pd\n",
    "import numpy as np\n",
    "import matplotlib.pyplot as plt\n",
    "import seaborn as sns\n",
    "\n",
    "from data.load_data import load_excel_data\n",
    "from data.clean_data import clean_data\n",
    "from data.split_data import time_series_split\n",
    "\n",
    "# Ubah path ke file kamu\n",
    "file_path = '../data/raw/dataset original.xlsx'\n",
    "\n",
    "# Load data\n",
    "df = load_excel_data(file_path)\n",
    "\n",
    "# Bersihkan data\n",
    "df_cleaned = clean_data(df)\n",
    "\n",
    "# Bagi data menjadi train dan test\n",
    "train, test = time_series_split(df_cleaned)\n",
    "\n",
    "print(train.shape)\n",
    "print(test.shape)"
   ]
  }
 ],
 "metadata": {
  "kernelspec": {
   "display_name": "venv",
   "language": "python",
   "name": "python3"
  },
  "language_info": {
   "codemirror_mode": {
    "name": "ipython",
    "version": 3
   },
   "file_extension": ".py",
   "mimetype": "text/x-python",
   "name": "python",
   "nbconvert_exporter": "python",
   "pygments_lexer": "ipython3",
   "version": "3.12.5"
  }
 },
 "nbformat": 4,
 "nbformat_minor": 5
}
